{
 "cells": [
  {
   "cell_type": "code",
   "execution_count": 1,
   "id": "d05f4286",
   "metadata": {},
   "outputs": [
    {
     "name": "stdout",
     "output_type": "stream",
     "text": [
      "^C\n",
      "Note: you may need to restart the kernel to use updated packages.\n"
     ]
    },
    {
     "name": "stdout",
     "output_type": "stream",
     "text": [
      "Requirement already satisfied: holoviews in f:\\anacoda\\lib\\site-packages (1.17.0)\n",
      "Requirement already satisfied: param<3.0,>=1.12.0 in f:\\anacoda\\lib\\site-packages (from holoviews) (1.13.0)\n",
      "Requirement already satisfied: numpy>=1.0 in f:\\anacoda\\lib\\site-packages (from holoviews) (1.24.3)\n",
      "Requirement already satisfied: pyviz-comms>=0.7.4 in f:\\anacoda\\lib\\site-packages (from holoviews) (2.3.0)\n",
      "Requirement already satisfied: panel>=0.13.1 in f:\\anacoda\\lib\\site-packages (from holoviews) (1.2.1)\n",
      "Requirement already satisfied: colorcet in f:\\anacoda\\lib\\site-packages (from holoviews) (3.0.1)\n",
      "Requirement already satisfied: packaging in f:\\anacoda\\lib\\site-packages (from holoviews) (23.0)\n",
      "Requirement already satisfied: pandas>=0.20.0 in f:\\anacoda\\lib\\site-packages (from holoviews) (2.1.1)\n",
      "Requirement already satisfied: python-dateutil>=2.8.2 in f:\\anacoda\\lib\\site-packages (from pandas>=0.20.0->holoviews) (2.8.2)\n",
      "Requirement already satisfied: pytz>=2020.1 in f:\\anacoda\\lib\\site-packages (from pandas>=0.20.0->holoviews) (2022.7)\n",
      "Requirement already satisfied: tzdata>=2022.1 in f:\\anacoda\\lib\\site-packages (from pandas>=0.20.0->holoviews) (2023.3)\n",
      "Requirement already satisfied: bokeh<3.3.0,>=3.1.1 in f:\\anacoda\\lib\\site-packages (from panel>=0.13.1->holoviews) (3.2.1)\n",
      "Requirement already satisfied: xyzservices>=2021.09.1 in f:\\anacoda\\lib\\site-packages (from panel>=0.13.1->holoviews) (2022.9.0)\n",
      "Requirement already satisfied: markdown in f:\\anacoda\\lib\\site-packages (from panel>=0.13.1->holoviews) (3.4.1)\n",
      "Requirement already satisfied: markdown-it-py in f:\\anacoda\\lib\\site-packages (from panel>=0.13.1->holoviews) (2.2.0)\n",
      "Requirement already satisfied: linkify-it-py in f:\\anacoda\\lib\\site-packages (from panel>=0.13.1->holoviews) (2.0.0)\n",
      "Requirement already satisfied: mdit-py-plugins in f:\\anacoda\\lib\\site-packages (from panel>=0.13.1->holoviews) (0.3.0)\n",
      "Requirement already satisfied: requests in f:\\anacoda\\lib\\site-packages (from panel>=0.13.1->holoviews) (2.31.0)\n",
      "Requirement already satisfied: tqdm>=4.48.0 in f:\\anacoda\\lib\\site-packages (from panel>=0.13.1->holoviews) (4.65.0)\n",
      "Requirement already satisfied: bleach in f:\\anacoda\\lib\\site-packages (from panel>=0.13.1->holoviews) (4.1.0)\n",
      "Requirement already satisfied: typing-extensions in f:\\anacoda\\lib\\site-packages (from panel>=0.13.1->holoviews) (4.7.1)\n",
      "Requirement already satisfied: pyct>=0.4.4 in f:\\anacoda\\lib\\site-packages (from colorcet->holoviews) (0.5.0)\n",
      "Requirement already satisfied: Jinja2>=2.9 in f:\\anacoda\\lib\\site-packages (from bokeh<3.3.0,>=3.1.1->panel>=0.13.1->holoviews) (3.1.2)\n",
      "Requirement already satisfied: contourpy>=1 in f:\\anacoda\\lib\\site-packages (from bokeh<3.3.0,>=3.1.1->panel>=0.13.1->holoviews) (1.0.5)\n",
      "Requirement already satisfied: pillow>=7.1.0 in f:\\anacoda\\lib\\site-packages (from bokeh<3.3.0,>=3.1.1->panel>=0.13.1->holoviews) (9.4.0)\n",
      "Requirement already satisfied: PyYAML>=3.10 in f:\\anacoda\\lib\\site-packages (from bokeh<3.3.0,>=3.1.1->panel>=0.13.1->holoviews) (6.0)\n",
      "Requirement already satisfied: tornado>=5.1 in f:\\anacoda\\lib\\site-packages (from bokeh<3.3.0,>=3.1.1->panel>=0.13.1->holoviews) (6.3.2)\n",
      "Requirement already satisfied: six>=1.5 in f:\\anacoda\\lib\\site-packages (from python-dateutil>=2.8.2->pandas>=0.20.0->holoviews) (1.16.0)\n",
      "Requirement already satisfied: colorama in f:\\anacoda\\lib\\site-packages (from tqdm>=4.48.0->panel>=0.13.1->holoviews) (0.4.6)\n",
      "Requirement already satisfied: webencodings in f:\\anacoda\\lib\\site-packages (from bleach->panel>=0.13.1->holoviews) (0.5.1)\n",
      "Requirement already satisfied: uc-micro-py in f:\\anacoda\\lib\\site-packages (from linkify-it-py->panel>=0.13.1->holoviews) (1.0.1)\n",
      "Requirement already satisfied: mdurl~=0.1 in f:\\anacoda\\lib\\site-packages (from markdown-it-py->panel>=0.13.1->holoviews) (0.1.0)\n",
      "Requirement already satisfied: charset-normalizer<4,>=2 in f:\\anacoda\\lib\\site-packages (from requests->panel>=0.13.1->holoviews) (2.0.4)\n",
      "Requirement already satisfied: idna<4,>=2.5 in f:\\anacoda\\lib\\site-packages (from requests->panel>=0.13.1->holoviews) (3.4)\n",
      "Requirement already satisfied: urllib3<3,>=1.21.1 in f:\\anacoda\\lib\\site-packages (from requests->panel>=0.13.1->holoviews) (1.26.16)\n",
      "Requirement already satisfied: certifi>=2017.4.17 in f:\\anacoda\\lib\\site-packages (from requests->panel>=0.13.1->holoviews) (2023.7.22)\n",
      "Requirement already satisfied: MarkupSafe>=2.0 in f:\\anacoda\\lib\\site-packages (from Jinja2>=2.9->bokeh<3.3.0,>=3.1.1->panel>=0.13.1->holoviews) (2.1.1)\n"
     ]
    }
   ],
   "source": [
    "%pip install holoviews"
   ]
  },
  {
   "cell_type": "code",
   "execution_count": null,
   "id": "1185aef4",
   "metadata": {},
   "outputs": [
    {
     "name": "stdout",
     "output_type": "stream",
     "text": [
      "Requirement already satisfied: networkx in f:\\anacoda\\lib\\site-packages (3.1)\n",
      "Note: you may need to restart the kernel to use updated packages.\n"
     ]
    }
   ],
   "source": [
    "%pip install networkx"
   ]
  },
  {
   "cell_type": "code",
   "execution_count": 2,
   "id": "adcd55ac",
   "metadata": {},
   "outputs": [],
   "source": [
    "import re\n",
    "import requests\n",
    "import pandas as pd\n",
    "import holoviews as hv\n",
    "import networkx as nx\n",
    "from holoviews import opts\n",
    "from bs4 import BeautifulSoup\n",
    "from urllib.request import urljoin\n"
   ]
  },
  {
   "cell_type": "code",
   "execution_count": 3,
   "id": "40bc10bd",
   "metadata": {},
   "outputs": [],
   "source": [
    "sites = \"https://www.google.com/\" #@param {type:\"string\"}\n",
    "depth = 3 #@param {type:\"slider\", min:1, max:10, step:1}\n",
    "max_child = 10 #@param {type:\"slider\", min:1, max:100, step:1}\n",
    "\n",
    "def crawl(sites, depth=1, current_depth=0, max_child=10):\n",
    "    get_links = lambda site: pd.Series(urljoin(site, tag.get('href')) for tag in BeautifulSoup(requests.get(site).text).find_all('a')).drop_duplicates().head(max_child)\n",
    "    \n",
    "    sites = pd.concat([sites, pd.DataFrame([{'link': link, 'parent': site, 'depth': current_depth + 1}\n",
    "                                       for site in sites[sites.depth == current_depth].link\n",
    "                                       for link in get_links(site)])], \n",
    "                         ignore_index=True).drop_duplicates('link')\n",
    "    \n",
    "    if depth > current_depth + 1:\n",
    "        return crawl(sites, depth=depth, current_depth=current_depth+1, max_child=max_child)\n",
    "    else:\n",
    "        return sites\n",
    "\n",
    "\n",
    "result = crawl(sites=pd.DataFrame([{'link': site, 'depth': 0, 'parent': site} for site in sites.split()]), \n",
    "               max_child=max_child,\n",
    "               depth=depth)"
   ]
  },
  {
   "cell_type": "code",
   "execution_count": null,
   "id": "6c7ceb7a",
   "metadata": {},
   "outputs": [
    {
     "data": {
      "text/html": [
       "<div>\n",
       "<style scoped>\n",
       "    .dataframe tbody tr th:only-of-type {\n",
       "        vertical-align: middle;\n",
       "    }\n",
       "\n",
       "    .dataframe tbody tr th {\n",
       "        vertical-align: top;\n",
       "    }\n",
       "\n",
       "    .dataframe thead th {\n",
       "        text-align: right;\n",
       "    }\n",
       "</style>\n",
       "<table border=\"1\" class=\"dataframe\">\n",
       "  <thead>\n",
       "    <tr style=\"text-align: right;\">\n",
       "      <th></th>\n",
       "      <th>link</th>\n",
       "      <th>depth</th>\n",
       "      <th>parent</th>\n",
       "    </tr>\n",
       "  </thead>\n",
       "  <tbody>\n",
       "    <tr>\n",
       "      <th>0</th>\n",
       "      <td>https://www.google.com/</td>\n",
       "      <td>0</td>\n",
       "      <td>https://www.google.com/</td>\n",
       "    </tr>\n",
       "    <tr>\n",
       "      <th>1</th>\n",
       "      <td>https://www.google.com/imghp?hl=km&amp;tab=wi</td>\n",
       "      <td>1</td>\n",
       "      <td>https://www.google.com/</td>\n",
       "    </tr>\n",
       "    <tr>\n",
       "      <th>2</th>\n",
       "      <td>https://maps.google.com.kh/maps?hl=km&amp;tab=wl</td>\n",
       "      <td>1</td>\n",
       "      <td>https://www.google.com/</td>\n",
       "    </tr>\n",
       "    <tr>\n",
       "      <th>3</th>\n",
       "      <td>https://play.google.com/?hl=km&amp;tab=w8</td>\n",
       "      <td>1</td>\n",
       "      <td>https://www.google.com/</td>\n",
       "    </tr>\n",
       "    <tr>\n",
       "      <th>4</th>\n",
       "      <td>https://news.google.com/?tab=wn</td>\n",
       "      <td>1</td>\n",
       "      <td>https://www.google.com/</td>\n",
       "    </tr>\n",
       "    <tr>\n",
       "      <th>...</th>\n",
       "      <td>...</td>\n",
       "      <td>...</td>\n",
       "      <td>...</td>\n",
       "    </tr>\n",
       "    <tr>\n",
       "      <th>487</th>\n",
       "      <td>https://support.google.com/websearch/?hl=en</td>\n",
       "      <td>3</td>\n",
       "      <td>https://support.google.com/websearch/?p=displa...</td>\n",
       "    </tr>\n",
       "    <tr>\n",
       "      <th>488</th>\n",
       "      <td>https://support.google.com/websearch/community...</td>\n",
       "      <td>3</td>\n",
       "      <td>https://support.google.com/websearch/?p=displa...</td>\n",
       "    </tr>\n",
       "    <tr>\n",
       "      <th>491</th>\n",
       "      <td>https://support.google.com/websearch/?p=result...</td>\n",
       "      <td>3</td>\n",
       "      <td>https://support.google.com/websearch/?p=result...</td>\n",
       "    </tr>\n",
       "    <tr>\n",
       "      <th>495</th>\n",
       "      <td>https://accounts.google.com/ServiceLogin?hl=en...</td>\n",
       "      <td>3</td>\n",
       "      <td>https://support.google.com/websearch/?p=result...</td>\n",
       "    </tr>\n",
       "    <tr>\n",
       "      <th>498</th>\n",
       "      <td>https://support.google.com/websearch/community...</td>\n",
       "      <td>3</td>\n",
       "      <td>https://support.google.com/websearch/?p=result...</td>\n",
       "    </tr>\n",
       "  </tbody>\n",
       "</table>\n",
       "<p>227 rows × 3 columns</p>\n",
       "</div>"
      ],
      "text/plain": [
       "                                                  link  depth  \\\n",
       "0                              https://www.google.com/      0   \n",
       "1            https://www.google.com/imghp?hl=km&tab=wi      1   \n",
       "2         https://maps.google.com.kh/maps?hl=km&tab=wl      1   \n",
       "3                https://play.google.com/?hl=km&tab=w8      1   \n",
       "4                      https://news.google.com/?tab=wn      1   \n",
       "..                                                 ...    ...   \n",
       "487        https://support.google.com/websearch/?hl=en      3   \n",
       "488  https://support.google.com/websearch/community...      3   \n",
       "491  https://support.google.com/websearch/?p=result...      3   \n",
       "495  https://accounts.google.com/ServiceLogin?hl=en...      3   \n",
       "498  https://support.google.com/websearch/community...      3   \n",
       "\n",
       "                                                parent  \n",
       "0                              https://www.google.com/  \n",
       "1                              https://www.google.com/  \n",
       "2                              https://www.google.com/  \n",
       "3                              https://www.google.com/  \n",
       "4                              https://www.google.com/  \n",
       "..                                                 ...  \n",
       "487  https://support.google.com/websearch/?p=displa...  \n",
       "488  https://support.google.com/websearch/?p=displa...  \n",
       "491  https://support.google.com/websearch/?p=result...  \n",
       "495  https://support.google.com/websearch/?p=result...  \n",
       "498  https://support.google.com/websearch/?p=result...  \n",
       "\n",
       "[227 rows x 3 columns]"
      ]
     },
     "execution_count": 5,
     "metadata": {},
     "output_type": "execute_result"
    }
   ],
   "source": [
    "result"
   ]
  },
  {
   "cell_type": "code",
   "execution_count": null,
   "id": "d5785be6",
   "metadata": {},
   "outputs": [],
   "source": [
    "# this is just the example scenarios\n",
    "# from the results you can see the links \"https://support.google.com/websearch\", \"https://play.google.com\"\n",
    "# it could be the all services google site"
   ]
  },
  {
   "cell_type": "code",
   "execution_count": 7,
   "id": "a41cc653",
   "metadata": {},
   "outputs": [
    {
     "name": "stdout",
     "output_type": "stream",
     "text": [
      "0           www\n",
      "1           www\n",
      "2          maps\n",
      "3          play\n",
      "4          news\n",
      "         ...   \n",
      "488     support\n",
      "491     support\n",
      "495    accounts\n",
      "495     support\n",
      "498     support\n",
      "Name: link, Length: 262, dtype: object\n"
     ]
    }
   ],
   "source": [
    "#Task : write the regular expression to get all the services of google\n",
    "\n",
    "import re\n",
    "\n",
    "# Regular expression pattern to match the services\n",
    "pattern = r\"https?://(?:www\\.)?([a-zA-Z0-9_-]+)\\.google\\.[a-zA-Z0-9_-]+\"\n",
    "\n",
    "# Extract the services from the links\n",
    "services = result['link'].str.lower().apply(lambda x: re.findall(pattern, x)).explode().dropna()\n",
    "\n",
    "# Print all services, including the repeated ones\n",
    "print(services)"
   ]
  },
  {
   "cell_type": "code",
   "execution_count": 8,
   "id": "400e50d1",
   "metadata": {},
   "outputs": [
    {
     "data": {
      "image/png": "[encoded data removed]",
      "text/plain": [
       "<Figure size 1000x600 with 1 Axes>"
      ]
     },
     "metadata": {},
     "output_type": "display_data"
    }
   ],
   "source": [
    "#Task : Visualize the services : - how many services that google have? \n",
    "\n",
    "\n",
    "import matplotlib.pyplot as plt\n",
    "from collections import Counter\n",
    "\n",
    "# Count the number of services\n",
    "service_counts = Counter(services)\n",
    "\n",
    "# Convert the service counts to a pandas Series\n",
    "service_counts_series = pd.Series(service_counts)\n",
    "\n",
    "# Create a bar chart\n",
    "plt.figure(figsize=(10, 6))\n",
    "service_counts_series.plot(kind='bar')\n",
    "plt.title('Number of Google Services')\n",
    "plt.xlabel('Service')\n",
    "plt.ylabel('Count')\n",
    "plt.xticks(rotation=45)\n",
    "plt.show()"
   ]
  },
  {
   "cell_type": "code",
   "execution_count": null,
   "id": "703fe53e",
   "metadata": {},
   "outputs": [],
   "source": [
    "\n"
   ]
  },
  {
   "cell_type": "code",
   "execution_count": null,
   "id": "bbe5e8a1",
   "metadata": {},
   "outputs": [],
   "source": []
  },
  {
   "cell_type": "code",
   "execution_count": null,
   "id": "816d03fc",
   "metadata": {},
   "outputs": [],
   "source": []
  },
  {
   "cell_type": "code",
   "execution_count": null,
   "id": "d706ba59",
   "metadata": {},
   "outputs": [],
   "source": []
  },
  {
   "cell_type": "code",
   "execution_count": null,
   "id": "5fe78ac9",
   "metadata": {},
   "outputs": [],
   "source": []
  },
  {
   "cell_type": "code",
   "execution_count": null,
   "id": "59fd37a8",
   "metadata": {},
   "outputs": [],
   "source": []
  }
 ],
 "metadata": {
  "kernelspec": {
   "display_name": "Python 3",
   "language": "python",
   "name": "python3"
  },
  "language_info": {
   "codemirror_mode": {
    "name": "ipython",
    "version": 3
   },
   "file_extension": ".py",
   "mimetype": "text/x-python",
   "name": "python",
   "nbconvert_exporter": "python",
   "pygments_lexer": "ipython3",
   "version": "3.11.4"
  }
 },
 "nbformat": 4,
 "nbformat_minor": 5
}
